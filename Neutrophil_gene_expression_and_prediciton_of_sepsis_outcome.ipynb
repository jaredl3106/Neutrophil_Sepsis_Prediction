{
  "nbformat": 4,
  "nbformat_minor": 0,
  "metadata": {
    "colab": {
      "provenance": [],
      "authorship_tag": "ABX9TyM6x9Ha2mLyBcCrVGTDYQ7F",
      "include_colab_link": true
    },
    "kernelspec": {
      "name": "python3",
      "display_name": "Python 3"
    },
    "language_info": {
      "name": "python"
    }
  },
  "cells": [
    {
      "cell_type": "markdown",
      "metadata": {
        "id": "view-in-github",
        "colab_type": "text"
      },
      "source": [
        "<a href=\"https://colab.research.google.com/github/jaredl3106/Neutrophil_Sepsis_Prediction/blob/main/Neutrophil_gene_expression_and_prediciton_of_sepsis_outcome.ipynb\" target=\"_parent\"><img src=\"https://colab.research.google.com/assets/colab-badge.svg\" alt=\"Open In Colab\"/></a>"
      ]
    },
    {
      "cell_type": "markdown",
      "source": [
        "I got the data from this data set: https://www.ncbi.nlm.nih.gov/geo/query/acc.cgi?acc=GSE95233.\n",
        "The first thing I looked at was the shape of the data and found where the metadata ended and the actual data began."
      ],
      "metadata": {
        "id": "VMKzJXktwyQq"
      }
    },
    {
      "cell_type": "code",
      "execution_count": 16,
      "metadata": {
        "colab": {
          "base_uri": "https://localhost:8080/"
        },
        "id": "kacm14MVqzSB",
        "outputId": "9fc22785-67e7-4006-ea75-c44fd58ca617"
      },
      "outputs": [
        {
          "output_type": "stream",
          "name": "stdout",
          "text": [
            "      ID_REF  GSM2500349  GSM2500350  GSM2500351  GSM2500352  GSM2500353  \\\n",
            "0  1007_s_at    5.292470    5.623496    5.774393    4.981319    5.137292   \n",
            "1    1053_at    5.167734    5.286838    5.021586    5.506422    5.202878   \n",
            "2     117_at    9.622298   10.205078    8.418067   10.431438    9.821794   \n",
            "3     121_at    5.634761    5.454517    5.376142    5.204029    5.655254   \n",
            "4  1255_g_at    3.051359    2.971336    3.630154    3.066858    3.083895   \n",
            "\n",
            "   GSM2500354  GSM2500355  GSM2500356  GSM2500357  ...  GSM2500463  \\\n",
            "0    5.223666    5.687131    5.423351    5.344728  ...    4.518048   \n",
            "1    5.346568    5.023571    5.166166    5.613024  ...    5.689576   \n",
            "2    9.277129   10.431604   10.107806   10.132443  ...    9.708607   \n",
            "3    5.479839    5.785701    5.784510    5.274973  ...    5.522392   \n",
            "4    3.096127    3.796828    3.299629    3.060467  ...    3.027907   \n",
            "\n",
            "   GSM2500464  GSM2500465  GSM2500466  GSM2500467  GSM2500468  GSM2500469  \\\n",
            "0    4.700016    5.093507    4.726563    4.655455    4.512240    4.995442   \n",
            "1    6.025623    5.860863    5.486581    6.170949    5.746922    5.641742   \n",
            "2    9.459683    9.143194    9.839625    9.816184    9.259203   10.391882   \n",
            "3    5.588025    5.466395    5.487915    5.115086    5.375533    5.510672   \n",
            "4    3.086608    3.219173    2.873690    3.059195    3.180626    3.588954   \n",
            "\n",
            "   GSM2500470  GSM2500471  GSM2500472  \n",
            "0    5.039430    4.427106    5.037184  \n",
            "1    5.387128    6.248212    5.781264  \n",
            "2   10.464042   10.791238    9.650083  \n",
            "3    5.390192    5.244042    5.256166  \n",
            "4    3.112692    3.086283    3.329474  \n",
            "\n",
            "[5 rows x 125 columns]\n",
            "['ID_REF', 'GSM2500349', 'GSM2500350', 'GSM2500351', 'GSM2500352', 'GSM2500353', 'GSM2500354', 'GSM2500355', 'GSM2500356', 'GSM2500357']\n",
            "(54676, 125)\n"
          ]
        }
      ],
      "source": [
        "import pandas as pd\n",
        "df = pd.read_csv(\"GSE95233_series_matrix.txt\", sep=\"\\t\", skiprows=71)  # Skip metadata\n",
        "print(df.head())\n",
        "print(list(df.columns[:10]))  # Column names\n",
        "print(df.shape)"
      ]
    },
    {
      "cell_type": "markdown",
      "source": [
        "Due to the large size of this data set I next wanted to limit the size of the data set to neutrophil associated genes. To do this I used"
      ],
      "metadata": {
        "id": "wdvkrY1dxAwM"
      }
    }
  ]
}